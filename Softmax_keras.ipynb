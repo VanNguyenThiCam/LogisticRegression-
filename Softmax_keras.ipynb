{
  "nbformat": 4,
  "nbformat_minor": 0,
  "metadata": {
    "colab": {
      "name": "Softmax_keras.ipynb",
      "provenance": [],
      "authorship_tag": "ABX9TyPam4OGC3+tNRuGlEto+0BS",
      "include_colab_link": true
    },
    "kernelspec": {
      "name": "python3",
      "display_name": "Python 3"
    },
    "language_info": {
      "name": "python"
    }
  },
  "cells": [
    {
      "cell_type": "markdown",
      "metadata": {
        "id": "view-in-github",
        "colab_type": "text"
      },
      "source": [
        "<a href=\"https://colab.research.google.com/github/VanNguyenThiCam/LogisticRegression-/blob/main/Softmax_keras.ipynb\" target=\"_parent\"><img src=\"https://colab.research.google.com/assets/colab-badge.svg\" alt=\"Open In Colab\"/></a>"
      ]
    },
    {
      "cell_type": "code",
      "execution_count": null,
      "metadata": {
        "id": "ihOaC9uViPkp"
      },
      "outputs": [],
      "source": [
        ""
      ]
    }
  ]
}