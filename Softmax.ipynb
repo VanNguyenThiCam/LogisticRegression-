{
  "nbformat": 4,
  "nbformat_minor": 0,
  "metadata": {
    "colab": {
      "name": "Softmax.ipynb",
      "provenance": [],
      "authorship_tag": "ABX9TyNPEPlG/vKlrN8TFTuq3RvA",
      "include_colab_link": true
    },
    "kernelspec": {
      "name": "python3",
      "display_name": "Python 3"
    },
    "language_info": {
      "name": "python"
    },
    "accelerator": "GPU"
  },
  "cells": [
    {
      "cell_type": "markdown",
      "metadata": {
        "id": "view-in-github",
        "colab_type": "text"
      },
      "source": [
        "<a href=\"https://colab.research.google.com/github/VanNguyenThiCam/LogisticRegression-/blob/main/Softmax.ipynb\" target=\"_parent\"><img src=\"https://colab.research.google.com/assets/colab-badge.svg\" alt=\"Open In Colab\"/></a>"
      ]
    },
    {
      "cell_type": "markdown",
      "source": [
        "**Đầu ra cần phân loại nhiều hơn 2 thì dùng hàm softmax thay vì dùng logistic**"
      ],
      "metadata": {
        "id": "8NOafPR5u5mC"
      }
    },
    {
      "cell_type": "code",
      "execution_count": 7,
      "metadata": {
        "colab": {
          "base_uri": "https://localhost:8080/"
        },
        "id": "0rKSV7PppQOE",
        "outputId": "8c8cdb2a-0c5a-4605-e75b-9bc511644ab9"
      },
      "outputs": [
        {
          "output_type": "stream",
          "name": "stdout",
          "text": [
            "Drive already mounted at /content/gdrive; to attempt to forcibly remount, call drive.mount(\"/content/gdrive\", force_remount=True).\n",
            "[[1.  6.8 3.2 5.9 2.3]\n",
            " [1.  6.  3.4 4.5 1.6]\n",
            " [1.  6.7 2.5 5.8 1.8]\n",
            " [1.  5.1 3.7 1.5 0.4]\n",
            " [1.  6.3 3.3 6.  2.5]\n",
            " [1.  5.7 3.8 1.7 0.3]\n",
            " [1.  5.1 3.5 1.4 0.2]]\n",
            "[[2.]\n",
            " [1.]\n",
            " [2.]\n",
            " [0.]\n",
            " [2.]\n",
            " [0.]\n",
            " [0.]]\n"
          ]
        }
      ],
      "source": [
        "import numpy as np\n",
        "import tensorflow as tf\n",
        "\n",
        "tf.keras.backend.set_floatx('float64')\n",
        "\n",
        "\n",
        "#chuẩn bị data\n",
        "\n",
        "from google.colab import drive #cách lấy dữ liệu trên google.colab \n",
        "drive.mount('/content/gdrive')\n",
        "\n",
        "data = np.genfromtxt('/content/gdrive/MyDrive/Colab Notebooks/Data/iris_full_softmax.csv'\n",
        "                      ,delimiter=',',skip_header = 1)\n",
        "\n",
        "X = data[:,0:4]\n",
        "y = data[:,4:]\n",
        "N = X.shape[0]\n",
        "\n",
        "X = np.c_[np.ones((N,1)),X] #\n",
        "\n",
        "inds = np.arange(N)\n",
        "np.random.shuffle(inds)\n",
        "\n",
        "X = X[inds]\n",
        "y = y[inds]\n",
        "\n",
        "\n",
        "print(X[:7])\n",
        "print(y[:7])"
      ]
    },
    {
      "cell_type": "code",
      "source": [
        "#theta\n",
        "\n",
        "D = 4+1\n",
        "K = 3\n",
        "\n",
        "theta = tf.Variable(tf.random.normal((D,K),dtype = tf.float64))\n",
        "\n",
        "#forward\n",
        "\n",
        "def compute_output(theta,X):\n",
        "    return tf.math.softmax(X@theta) #sự khác biệt với logistic"
      ],
      "metadata": {
        "id": "UiA1Xxz8pogq"
      },
      "execution_count": 8,
      "outputs": []
    },
    {
      "cell_type": "code",
      "source": [
        "#tham số\n",
        "\n",
        "lr = 0.01\n",
        "num_epochs = 1000\n",
        "losses = []\n",
        "\n",
        "loss_fn = tf.keras.losses.SparseCategoricalCrossentropy() #nếu không xử lý 3 đầu ra 0,1,2"
      ],
      "metadata": {
        "id": "yOrl0SkYqSLT"
      },
      "execution_count": 9,
      "outputs": []
    },
    {
      "cell_type": "code",
      "source": [
        "for epoch in range(num_epochs):\n",
        "    with tf.GradientTape() as t:\n",
        "        y_hat = compute_output(theta,X)\n",
        "\n",
        "        loss = loss_fn(y,y_hat)\n",
        "        losses.append(loss.numpy())\n",
        "\n",
        "        dtheta = t.gradient(loss,theta)\n",
        "\n",
        "        theta.assign_sub(lr*dtheta)\n",
        "                      "
      ],
      "metadata": {
        "id": "PBhDdFbSqif1"
      },
      "execution_count": 10,
      "outputs": []
    },
    {
      "cell_type": "code",
      "source": [
        "import matplotlib.pyplot as plt\n",
        "\n",
        "plt.plot(losses)\n",
        "plt.xlabel('iteration')\n",
        "plt.ylabel('Loss')\n",
        "plt.show()"
      ],
      "metadata": {
        "colab": {
          "base_uri": "https://localhost:8080/",
          "height": 279
        },
        "id": "DQShU48lrEs9",
        "outputId": "77b5a71a-8b66-4354-bba7-05c89110a748"
      },
      "execution_count": 11,
      "outputs": [
        {
          "output_type": "display_data",
          "data": {
            "text/plain": [
              "<Figure size 432x288 with 1 Axes>"
            ],
            "image/png": "[encoded data removed]"
          },
          "metadata": {
            "needs_background": "light"
          }
        }
      ]
    },
    {
      "cell_type": "code",
      "source": [
        ""
      ],
      "metadata": {
        "id": "hZis-hr6rN61"
      },
      "execution_count": null,
      "outputs": []
    }
  ]
}