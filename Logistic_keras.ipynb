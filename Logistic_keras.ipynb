{
  "nbformat": 4,
  "nbformat_minor": 0,
  "metadata": {
    "colab": {
      "name": "Logistic_keras.ipynb",
      "provenance": [],
      "authorship_tag": "ABX9TyNqMY3AVrcXloPA06m2TT2g",
      "include_colab_link": true
    },
    "kernelspec": {
      "name": "python3",
      "display_name": "Python 3"
    },
    "language_info": {
      "name": "python"
    },
    "accelerator": "GPU"
  },
  "cells": [
    {
      "cell_type": "markdown",
      "metadata": {
        "id": "view-in-github",
        "colab_type": "text"
      },
      "source": [
        "<a href=\"https://colab.research.google.com/github/VanNguyenThiCam/LogisticRegression-/blob/main/Logistic_keras.ipynb\" target=\"_parent\"><img src=\"https://colab.research.google.com/assets/colab-badge.svg\" alt=\"Open In Colab\"/></a>"
      ]
    },
    {
      "cell_type": "code",
      "execution_count": 13,
      "metadata": {
        "colab": {
          "base_uri": "https://localhost:8080/"
        },
        "id": "ct-l8wcHHt5S",
        "outputId": "87696b05-2054-4e22-cb5b-5632515c4ccd"
      },
      "outputs": [
        {
          "output_type": "stream",
          "name": "stdout",
          "text": [
            "Drive already mounted at /content/gdrive; to attempt to forcibly remount, call drive.mount(\"/content/gdrive\", force_remount=True).\n",
            "[[5.1 3.5 1.4 0.2]\n",
            " [4.9 3.  1.4 0.2]\n",
            " [4.7 3.2 1.3 0.2]\n",
            " [4.6 3.1 1.5 0.2]\n",
            " [5.  3.6 1.4 0.2]]\n",
            "[[0.]\n",
            " [0.]\n",
            " [0.]\n",
            " [0.]\n",
            " [0.]]\n"
          ]
        }
      ],
      "source": [
        "import numpy as np\n",
        "import tensorflow as tf\n",
        "import tensorflow.keras as keras\n",
        "\n",
        "#chuẩn bị data\n",
        "\n",
        "from google.colab import drive #cách lấy dữ liệu trên google.colab \n",
        "drive.mount('/content/gdrive')\n",
        "\n",
        "data = np.genfromtxt('/content/gdrive/MyDrive/Colab Notebooks/Data/iris_full.csv'\n",
        "                      ,delimiter=',',skip_header = 1)\n",
        "\n",
        "X = data[:,0:4]\n",
        "y = data[:,4:]\n",
        "\n",
        "print(X[:5])\n",
        "print(y[:5])"
      ]
    },
    {
      "cell_type": "code",
      "source": [
        "#tạo mô hình \n",
        "\n",
        "model = tf.keras.Sequential([keras.layers.Dense(units = 1, activation ='sigmoid',input_shape = [4])])\n",
        "\n",
        "model.summary()"
      ],
      "metadata": {
        "colab": {
          "base_uri": "https://localhost:8080/"
        },
        "id": "kVPZGFs5JVlz",
        "outputId": "c4cf5136-2602-4deb-d168-4173d41c41fe"
      },
      "execution_count": 14,
      "outputs": [
        {
          "output_type": "stream",
          "name": "stdout",
          "text": [
            "Model: \"sequential_2\"\n",
            "_________________________________________________________________\n",
            " Layer (type)                Output Shape              Param #   \n",
            "=================================================================\n",
            " dense_2 (Dense)             (None, 1)                 5         \n",
            "                                                                 \n",
            "=================================================================\n",
            "Total params: 5\n",
            "Trainable params: 5\n",
            "Non-trainable params: 0\n",
            "_________________________________________________________________\n"
          ]
        }
      ]
    },
    {
      "cell_type": "code",
      "source": [
        "#huấn luyện mô hình\n",
        "\n",
        "model.compile(optimizer='sgd',loss ='binary_crossentropy')\n",
        "\n",
        "batch_size = 16\n",
        "epochs = 200\n",
        "records = model.fit(X,y,batch_size,epochs)"
      ],
      "metadata": {
        "colab": {
          "base_uri": "https://localhost:8080/"
        },
        "id": "oIwqYupaKCJV",
        "outputId": "5bf49081-1c2a-48ac-cd82-e3f6203c86a0"
      },
      "execution_count": 15,
      "outputs": [
        {
          "output_type": "stream",
          "name": "stdout",
          "text": [
            "Epoch 1/200\n",
            "7/7 [==============================] - 0s 3ms/step - loss: 0.2924\n",
            "Epoch 2/200\n",
            "7/7 [==============================] - 0s 2ms/step - loss: 0.2641\n",
            "Epoch 3/200\n",
            "7/7 [==============================] - 0s 2ms/step - loss: 0.2524\n",
            "Epoch 4/200\n",
            "7/7 [==============================] - 0s 2ms/step - loss: 0.2434\n",
            "Epoch 5/200\n",
            "7/7 [==============================] - 0s 3ms/step - loss: 0.2383\n",
            "Epoch 6/200\n",
            "7/7 [==============================] - 0s 2ms/step - loss: 0.2326\n",
            "Epoch 7/200\n",
            "7/7 [==============================] - 0s 3ms/step - loss: 0.2280\n",
            "Epoch 8/200\n",
            "7/7 [==============================] - 0s 2ms/step - loss: 0.2227\n",
            "Epoch 9/200\n",
            "7/7 [==============================] - 0s 2ms/step - loss: 0.2183\n",
            "Epoch 10/200\n",
            "7/7 [==============================] - 0s 3ms/step - loss: 0.2136\n",
            "Epoch 11/200\n",
            "7/7 [==============================] - 0s 3ms/step - loss: 0.2103\n",
            "Epoch 12/200\n",
            "7/7 [==============================] - 0s 2ms/step - loss: 0.2053\n",
            "Epoch 13/200\n",
            "7/7 [==============================] - 0s 2ms/step - loss: 0.2015\n",
            "Epoch 14/200\n",
            "7/7 [==============================] - 0s 2ms/step - loss: 0.1983\n",
            "Epoch 15/200\n",
            "7/7 [==============================] - 0s 3ms/step - loss: 0.1941\n",
            "Epoch 16/200\n",
            "7/7 [==============================] - 0s 2ms/step - loss: 0.1904\n",
            "Epoch 17/200\n",
            "7/7 [==============================] - 0s 3ms/step - loss: 0.1873\n",
            "Epoch 18/200\n",
            "7/7 [==============================] - 0s 2ms/step - loss: 0.1843\n",
            "Epoch 19/200\n",
            "7/7 [==============================] - 0s 2ms/step - loss: 0.1810\n",
            "Epoch 20/200\n",
            "7/7 [==============================] - 0s 2ms/step - loss: 0.1777\n",
            "Epoch 21/200\n",
            "7/7 [==============================] - 0s 3ms/step - loss: 0.1753\n",
            "Epoch 22/200\n",
            "7/7 [==============================] - 0s 2ms/step - loss: 0.1720\n",
            "Epoch 23/200\n",
            "7/7 [==============================] - 0s 3ms/step - loss: 0.1691\n",
            "Epoch 24/200\n",
            "7/7 [==============================] - 0s 3ms/step - loss: 0.1665\n",
            "Epoch 25/200\n",
            "7/7 [==============================] - 0s 2ms/step - loss: 0.1638\n",
            "Epoch 26/200\n",
            "7/7 [==============================] - 0s 3ms/step - loss: 0.1611\n",
            "Epoch 27/200\n",
            "7/7 [==============================] - 0s 2ms/step - loss: 0.1592\n",
            "Epoch 28/200\n",
            "7/7 [==============================] - 0s 3ms/step - loss: 0.1563\n",
            "Epoch 29/200\n",
            "7/7 [==============================] - 0s 3ms/step - loss: 0.1541\n",
            "Epoch 30/200\n",
            "7/7 [==============================] - 0s 3ms/step - loss: 0.1521\n",
            "Epoch 31/200\n",
            "7/7 [==============================] - 0s 2ms/step - loss: 0.1501\n",
            "Epoch 32/200\n",
            "7/7 [==============================] - 0s 2ms/step - loss: 0.1482\n",
            "Epoch 33/200\n",
            "7/7 [==============================] - 0s 3ms/step - loss: 0.1457\n",
            "Epoch 34/200\n",
            "7/7 [==============================] - 0s 2ms/step - loss: 0.1437\n",
            "Epoch 35/200\n",
            "7/7 [==============================] - 0s 2ms/step - loss: 0.1415\n",
            "Epoch 36/200\n",
            "7/7 [==============================] - 0s 2ms/step - loss: 0.1395\n",
            "Epoch 37/200\n",
            "7/7 [==============================] - 0s 3ms/step - loss: 0.1376\n",
            "Epoch 38/200\n",
            "7/7 [==============================] - 0s 3ms/step - loss: 0.1359\n",
            "Epoch 39/200\n",
            "7/7 [==============================] - 0s 2ms/step - loss: 0.1341\n",
            "Epoch 40/200\n",
            "7/7 [==============================] - 0s 3ms/step - loss: 0.1326\n",
            "Epoch 41/200\n",
            "7/7 [==============================] - 0s 2ms/step - loss: 0.1307\n",
            "Epoch 42/200\n",
            "7/7 [==============================] - 0s 3ms/step - loss: 0.1292\n",
            "Epoch 43/200\n",
            "7/7 [==============================] - 0s 2ms/step - loss: 0.1276\n",
            "Epoch 44/200\n",
            "7/7 [==============================] - 0s 2ms/step - loss: 0.1262\n",
            "Epoch 45/200\n",
            "7/7 [==============================] - 0s 4ms/step - loss: 0.1245\n",
            "Epoch 46/200\n",
            "7/7 [==============================] - 0s 2ms/step - loss: 0.1230\n",
            "Epoch 47/200\n",
            "7/7 [==============================] - 0s 2ms/step - loss: 0.1215\n",
            "Epoch 48/200\n",
            "7/7 [==============================] - 0s 3ms/step - loss: 0.1202\n",
            "Epoch 49/200\n",
            "7/7 [==============================] - 0s 2ms/step - loss: 0.1187\n",
            "Epoch 50/200\n",
            "7/7 [==============================] - 0s 2ms/step - loss: 0.1172\n",
            "Epoch 51/200\n",
            "7/7 [==============================] - 0s 2ms/step - loss: 0.1160\n",
            "Epoch 52/200\n",
            "7/7 [==============================] - 0s 2ms/step - loss: 0.1146\n",
            "Epoch 53/200\n",
            "7/7 [==============================] - 0s 3ms/step - loss: 0.1135\n",
            "Epoch 54/200\n",
            "7/7 [==============================] - 0s 3ms/step - loss: 0.1123\n",
            "Epoch 55/200\n",
            "7/7 [==============================] - 0s 3ms/step - loss: 0.1112\n",
            "Epoch 56/200\n",
            "7/7 [==============================] - 0s 2ms/step - loss: 0.1097\n",
            "Epoch 57/200\n",
            "7/7 [==============================] - 0s 3ms/step - loss: 0.1086\n",
            "Epoch 58/200\n",
            "7/7 [==============================] - 0s 2ms/step - loss: 0.1076\n",
            "Epoch 59/200\n",
            "7/7 [==============================] - 0s 3ms/step - loss: 0.1065\n",
            "Epoch 60/200\n",
            "7/7 [==============================] - 0s 3ms/step - loss: 0.1053\n",
            "Epoch 61/200\n",
            "7/7 [==============================] - 0s 2ms/step - loss: 0.1042\n",
            "Epoch 62/200\n",
            "7/7 [==============================] - 0s 2ms/step - loss: 0.1033\n",
            "Epoch 63/200\n",
            "7/7 [==============================] - 0s 2ms/step - loss: 0.1025\n",
            "Epoch 64/200\n",
            "7/7 [==============================] - 0s 3ms/step - loss: 0.1012\n",
            "Epoch 65/200\n",
            "7/7 [==============================] - 0s 3ms/step - loss: 0.1002\n",
            "Epoch 66/200\n",
            "7/7 [==============================] - 0s 3ms/step - loss: 0.0994\n",
            "Epoch 67/200\n",
            "7/7 [==============================] - 0s 2ms/step - loss: 0.0982\n",
            "Epoch 68/200\n",
            "7/7 [==============================] - 0s 2ms/step - loss: 0.0973\n",
            "Epoch 69/200\n",
            "7/7 [==============================] - 0s 3ms/step - loss: 0.0965\n",
            "Epoch 70/200\n",
            "7/7 [==============================] - 0s 3ms/step - loss: 0.0955\n",
            "Epoch 71/200\n",
            "7/7 [==============================] - 0s 3ms/step - loss: 0.0946\n",
            "Epoch 72/200\n",
            "7/7 [==============================] - 0s 3ms/step - loss: 0.0937\n",
            "Epoch 73/200\n",
            "7/7 [==============================] - 0s 3ms/step - loss: 0.0928\n",
            "Epoch 74/200\n",
            "7/7 [==============================] - 0s 3ms/step - loss: 0.0921\n",
            "Epoch 75/200\n",
            "7/7 [==============================] - 0s 3ms/step - loss: 0.0914\n",
            "Epoch 76/200\n",
            "7/7 [==============================] - 0s 3ms/step - loss: 0.0905\n",
            "Epoch 77/200\n",
            "7/7 [==============================] - 0s 4ms/step - loss: 0.0897\n",
            "Epoch 78/200\n",
            "7/7 [==============================] - 0s 3ms/step - loss: 0.0890\n",
            "Epoch 79/200\n",
            "7/7 [==============================] - 0s 3ms/step - loss: 0.0881\n",
            "Epoch 80/200\n",
            "7/7 [==============================] - 0s 3ms/step - loss: 0.0875\n",
            "Epoch 81/200\n",
            "7/7 [==============================] - 0s 3ms/step - loss: 0.0867\n",
            "Epoch 82/200\n",
            "7/7 [==============================] - 0s 2ms/step - loss: 0.0859\n",
            "Epoch 83/200\n",
            "7/7 [==============================] - 0s 2ms/step - loss: 0.0852\n",
            "Epoch 84/200\n",
            "7/7 [==============================] - 0s 2ms/step - loss: 0.0846\n",
            "Epoch 85/200\n",
            "7/7 [==============================] - 0s 3ms/step - loss: 0.0838\n",
            "Epoch 86/200\n",
            "7/7 [==============================] - 0s 3ms/step - loss: 0.0832\n",
            "Epoch 87/200\n",
            "7/7 [==============================] - 0s 2ms/step - loss: 0.0826\n",
            "Epoch 88/200\n",
            "7/7 [==============================] - 0s 3ms/step - loss: 0.0819\n",
            "Epoch 89/200\n",
            "7/7 [==============================] - 0s 2ms/step - loss: 0.0814\n",
            "Epoch 90/200\n",
            "7/7 [==============================] - 0s 3ms/step - loss: 0.0806\n",
            "Epoch 91/200\n",
            "7/7 [==============================] - 0s 2ms/step - loss: 0.0799\n",
            "Epoch 92/200\n",
            "7/7 [==============================] - 0s 3ms/step - loss: 0.0794\n",
            "Epoch 93/200\n",
            "7/7 [==============================] - 0s 2ms/step - loss: 0.0788\n",
            "Epoch 94/200\n",
            "7/7 [==============================] - 0s 4ms/step - loss: 0.0781\n",
            "Epoch 95/200\n",
            "7/7 [==============================] - 0s 2ms/step - loss: 0.0776\n",
            "Epoch 96/200\n",
            "7/7 [==============================] - 0s 3ms/step - loss: 0.0770\n",
            "Epoch 97/200\n",
            "7/7 [==============================] - 0s 5ms/step - loss: 0.0763\n",
            "Epoch 98/200\n",
            "7/7 [==============================] - 0s 3ms/step - loss: 0.0758\n",
            "Epoch 99/200\n",
            "7/7 [==============================] - 0s 3ms/step - loss: 0.0754\n",
            "Epoch 100/200\n",
            "7/7 [==============================] - 0s 3ms/step - loss: 0.0748\n",
            "Epoch 101/200\n",
            "7/7 [==============================] - 0s 3ms/step - loss: 0.0742\n",
            "Epoch 102/200\n",
            "7/7 [==============================] - 0s 2ms/step - loss: 0.0737\n",
            "Epoch 103/200\n",
            "7/7 [==============================] - 0s 3ms/step - loss: 0.0732\n",
            "Epoch 104/200\n",
            "7/7 [==============================] - 0s 3ms/step - loss: 0.0726\n",
            "Epoch 105/200\n",
            "7/7 [==============================] - 0s 2ms/step - loss: 0.0723\n",
            "Epoch 106/200\n",
            "7/7 [==============================] - 0s 3ms/step - loss: 0.0717\n",
            "Epoch 107/200\n",
            "7/7 [==============================] - 0s 3ms/step - loss: 0.0711\n",
            "Epoch 108/200\n",
            "7/7 [==============================] - 0s 3ms/step - loss: 0.0707\n",
            "Epoch 109/200\n",
            "7/7 [==============================] - 0s 2ms/step - loss: 0.0702\n",
            "Epoch 110/200\n",
            "7/7 [==============================] - 0s 3ms/step - loss: 0.0698\n",
            "Epoch 111/200\n",
            "7/7 [==============================] - 0s 2ms/step - loss: 0.0692\n",
            "Epoch 112/200\n",
            "7/7 [==============================] - 0s 2ms/step - loss: 0.0688\n",
            "Epoch 113/200\n",
            "7/7 [==============================] - 0s 2ms/step - loss: 0.0683\n",
            "Epoch 114/200\n",
            "7/7 [==============================] - 0s 3ms/step - loss: 0.0679\n",
            "Epoch 115/200\n",
            "7/7 [==============================] - 0s 2ms/step - loss: 0.0674\n",
            "Epoch 116/200\n",
            "7/7 [==============================] - 0s 3ms/step - loss: 0.0670\n",
            "Epoch 117/200\n",
            "7/7 [==============================] - 0s 2ms/step - loss: 0.0665\n",
            "Epoch 118/200\n",
            "7/7 [==============================] - 0s 3ms/step - loss: 0.0661\n",
            "Epoch 119/200\n",
            "7/7 [==============================] - 0s 3ms/step - loss: 0.0657\n",
            "Epoch 120/200\n",
            "7/7 [==============================] - 0s 2ms/step - loss: 0.0653\n",
            "Epoch 121/200\n",
            "7/7 [==============================] - 0s 2ms/step - loss: 0.0649\n",
            "Epoch 122/200\n",
            "7/7 [==============================] - 0s 3ms/step - loss: 0.0645\n",
            "Epoch 123/200\n",
            "7/7 [==============================] - 0s 2ms/step - loss: 0.0641\n",
            "Epoch 124/200\n",
            "7/7 [==============================] - 0s 2ms/step - loss: 0.0637\n",
            "Epoch 125/200\n",
            "7/7 [==============================] - 0s 3ms/step - loss: 0.0633\n",
            "Epoch 126/200\n",
            "7/7 [==============================] - 0s 2ms/step - loss: 0.0629\n",
            "Epoch 127/200\n",
            "7/7 [==============================] - 0s 4ms/step - loss: 0.0626\n",
            "Epoch 128/200\n",
            "7/7 [==============================] - 0s 3ms/step - loss: 0.0622\n",
            "Epoch 129/200\n",
            "7/7 [==============================] - 0s 3ms/step - loss: 0.0618\n",
            "Epoch 130/200\n",
            "7/7 [==============================] - 0s 2ms/step - loss: 0.0614\n",
            "Epoch 131/200\n",
            "7/7 [==============================] - 0s 2ms/step - loss: 0.0611\n",
            "Epoch 132/200\n",
            "7/7 [==============================] - 0s 2ms/step - loss: 0.0607\n",
            "Epoch 133/200\n",
            "7/7 [==============================] - 0s 3ms/step - loss: 0.0604\n",
            "Epoch 134/200\n",
            "7/7 [==============================] - 0s 3ms/step - loss: 0.0600\n",
            "Epoch 135/200\n",
            "7/7 [==============================] - 0s 3ms/step - loss: 0.0597\n",
            "Epoch 136/200\n",
            "7/7 [==============================] - 0s 3ms/step - loss: 0.0595\n",
            "Epoch 137/200\n",
            "7/7 [==============================] - 0s 3ms/step - loss: 0.0590\n",
            "Epoch 138/200\n",
            "7/7 [==============================] - 0s 4ms/step - loss: 0.0587\n",
            "Epoch 139/200\n",
            "7/7 [==============================] - 0s 3ms/step - loss: 0.0584\n",
            "Epoch 140/200\n",
            "7/7 [==============================] - 0s 3ms/step - loss: 0.0581\n",
            "Epoch 141/200\n",
            "7/7 [==============================] - 0s 3ms/step - loss: 0.0577\n",
            "Epoch 142/200\n",
            "7/7 [==============================] - 0s 3ms/step - loss: 0.0574\n",
            "Epoch 143/200\n",
            "7/7 [==============================] - 0s 3ms/step - loss: 0.0572\n",
            "Epoch 144/200\n",
            "7/7 [==============================] - 0s 3ms/step - loss: 0.0568\n",
            "Epoch 145/200\n",
            "7/7 [==============================] - 0s 2ms/step - loss: 0.0565\n",
            "Epoch 146/200\n",
            "7/7 [==============================] - 0s 3ms/step - loss: 0.0562\n",
            "Epoch 147/200\n",
            "7/7 [==============================] - 0s 2ms/step - loss: 0.0559\n",
            "Epoch 148/200\n",
            "7/7 [==============================] - 0s 3ms/step - loss: 0.0556\n",
            "Epoch 149/200\n",
            "7/7 [==============================] - 0s 2ms/step - loss: 0.0553\n",
            "Epoch 150/200\n",
            "7/7 [==============================] - 0s 3ms/step - loss: 0.0551\n",
            "Epoch 151/200\n",
            "7/7 [==============================] - 0s 3ms/step - loss: 0.0547\n",
            "Epoch 152/200\n",
            "7/7 [==============================] - 0s 2ms/step - loss: 0.0545\n",
            "Epoch 153/200\n",
            "7/7 [==============================] - 0s 3ms/step - loss: 0.0542\n",
            "Epoch 154/200\n",
            "7/7 [==============================] - 0s 3ms/step - loss: 0.0540\n",
            "Epoch 155/200\n",
            "7/7 [==============================] - 0s 3ms/step - loss: 0.0536\n",
            "Epoch 156/200\n",
            "7/7 [==============================] - 0s 3ms/step - loss: 0.0534\n",
            "Epoch 157/200\n",
            "7/7 [==============================] - 0s 3ms/step - loss: 0.0531\n",
            "Epoch 158/200\n",
            "7/7 [==============================] - 0s 2ms/step - loss: 0.0528\n",
            "Epoch 159/200\n",
            "7/7 [==============================] - 0s 2ms/step - loss: 0.0526\n",
            "Epoch 160/200\n",
            "7/7 [==============================] - 0s 3ms/step - loss: 0.0523\n",
            "Epoch 161/200\n",
            "7/7 [==============================] - 0s 3ms/step - loss: 0.0520\n",
            "Epoch 162/200\n",
            "7/7 [==============================] - 0s 3ms/step - loss: 0.0518\n",
            "Epoch 163/200\n",
            "7/7 [==============================] - 0s 2ms/step - loss: 0.0515\n",
            "Epoch 164/200\n",
            "7/7 [==============================] - 0s 3ms/step - loss: 0.0513\n",
            "Epoch 165/200\n",
            "7/7 [==============================] - 0s 3ms/step - loss: 0.0510\n",
            "Epoch 166/200\n",
            "7/7 [==============================] - 0s 3ms/step - loss: 0.0508\n",
            "Epoch 167/200\n",
            "7/7 [==============================] - 0s 3ms/step - loss: 0.0505\n",
            "Epoch 168/200\n",
            "7/7 [==============================] - 0s 3ms/step - loss: 0.0503\n",
            "Epoch 169/200\n",
            "7/7 [==============================] - 0s 3ms/step - loss: 0.0501\n",
            "Epoch 170/200\n",
            "7/7 [==============================] - 0s 3ms/step - loss: 0.0498\n",
            "Epoch 171/200\n",
            "7/7 [==============================] - 0s 3ms/step - loss: 0.0495\n",
            "Epoch 172/200\n",
            "7/7 [==============================] - 0s 3ms/step - loss: 0.0494\n",
            "Epoch 173/200\n",
            "7/7 [==============================] - 0s 3ms/step - loss: 0.0491\n",
            "Epoch 174/200\n",
            "7/7 [==============================] - 0s 3ms/step - loss: 0.0489\n",
            "Epoch 175/200\n",
            "7/7 [==============================] - 0s 3ms/step - loss: 0.0486\n",
            "Epoch 176/200\n",
            "7/7 [==============================] - 0s 2ms/step - loss: 0.0484\n",
            "Epoch 177/200\n",
            "7/7 [==============================] - 0s 3ms/step - loss: 0.0482\n",
            "Epoch 178/200\n",
            "7/7 [==============================] - 0s 2ms/step - loss: 0.0480\n",
            "Epoch 179/200\n",
            "7/7 [==============================] - 0s 3ms/step - loss: 0.0478\n",
            "Epoch 180/200\n",
            "7/7 [==============================] - 0s 3ms/step - loss: 0.0476\n",
            "Epoch 181/200\n",
            "7/7 [==============================] - 0s 3ms/step - loss: 0.0474\n",
            "Epoch 182/200\n",
            "7/7 [==============================] - 0s 3ms/step - loss: 0.0471\n",
            "Epoch 183/200\n",
            "7/7 [==============================] - 0s 3ms/step - loss: 0.0469\n",
            "Epoch 184/200\n",
            "7/7 [==============================] - 0s 3ms/step - loss: 0.0467\n",
            "Epoch 185/200\n",
            "7/7 [==============================] - 0s 3ms/step - loss: 0.0465\n",
            "Epoch 186/200\n",
            "7/7 [==============================] - 0s 3ms/step - loss: 0.0463\n",
            "Epoch 187/200\n",
            "7/7 [==============================] - 0s 3ms/step - loss: 0.0461\n",
            "Epoch 188/200\n",
            "7/7 [==============================] - 0s 3ms/step - loss: 0.0458\n",
            "Epoch 189/200\n",
            "7/7 [==============================] - 0s 3ms/step - loss: 0.0456\n",
            "Epoch 190/200\n",
            "7/7 [==============================] - 0s 3ms/step - loss: 0.0455\n",
            "Epoch 191/200\n",
            "7/7 [==============================] - 0s 3ms/step - loss: 0.0453\n",
            "Epoch 192/200\n",
            "7/7 [==============================] - 0s 3ms/step - loss: 0.0451\n",
            "Epoch 193/200\n",
            "7/7 [==============================] - 0s 3ms/step - loss: 0.0449\n",
            "Epoch 194/200\n",
            "7/7 [==============================] - 0s 3ms/step - loss: 0.0447\n",
            "Epoch 195/200\n",
            "7/7 [==============================] - 0s 2ms/step - loss: 0.0445\n",
            "Epoch 196/200\n",
            "7/7 [==============================] - 0s 3ms/step - loss: 0.0443\n",
            "Epoch 197/200\n",
            "7/7 [==============================] - 0s 3ms/step - loss: 0.0442\n",
            "Epoch 198/200\n",
            "7/7 [==============================] - 0s 3ms/step - loss: 0.0440\n",
            "Epoch 199/200\n",
            "7/7 [==============================] - 0s 3ms/step - loss: 0.0438\n",
            "Epoch 200/200\n",
            "7/7 [==============================] - 0s 3ms/step - loss: 0.0436\n"
          ]
        }
      ]
    },
    {
      "cell_type": "code",
      "source": [
        "import matplotlib.pyplot as plt\n",
        "\n",
        "plt.plot(records.history['loss'])\n",
        "plt.xlabel('Iteration')\n",
        "plt.ylabel('loss')\n",
        "plt.show()"
      ],
      "metadata": {
        "colab": {
          "base_uri": "https://localhost:8080/",
          "height": 279
        },
        "id": "LwaDgQiTKq33",
        "outputId": "3ff36e1d-d5c2-4ee0-9b6f-61df2957435c"
      },
      "execution_count": 16,
      "outputs": [
        {
          "output_type": "display_data",
          "data": {
            "text/plain": [
              "<Figure size 432x288 with 1 Axes>"
            ],
            "image/png": "[encoded data removed]"
          },
          "metadata": {
            "needs_background": "light"
          }
        }
      ]
    },
    {
      "cell_type": "code",
      "source": [
        "preds = model(X)\n",
        "print(preds.shape)"
      ],
      "metadata": {
        "colab": {
          "base_uri": "https://localhost:8080/"
        },
        "id": "Vq3gTrnBQGLj",
        "outputId": "99c4eae1-1235-4ca7-c844-4528bdf7a07d"
      },
      "execution_count": 17,
      "outputs": [
        {
          "output_type": "stream",
          "name": "stdout",
          "text": [
            "(100, 1)\n"
          ]
        }
      ]
    },
    {
      "cell_type": "code",
      "source": [
        "print(y[:10])"
      ],
      "metadata": {
        "colab": {
          "base_uri": "https://localhost:8080/"
        },
        "id": "nZr_KspMZml5",
        "outputId": "c7441e71-8b3e-4f7a-cdaa-9c155e21daf5"
      },
      "execution_count": 18,
      "outputs": [
        {
          "output_type": "stream",
          "name": "stdout",
          "text": [
            "[[0.]\n",
            " [0.]\n",
            " [0.]\n",
            " [0.]\n",
            " [0.]\n",
            " [0.]\n",
            " [0.]\n",
            " [0.]\n",
            " [0.]\n",
            " [0.]]\n"
          ]
        }
      ]
    },
    {
      "cell_type": "code",
      "source": [
        "preds[:10]"
      ],
      "metadata": {
        "colab": {
          "base_uri": "https://localhost:8080/"
        },
        "id": "nWGeiaCkZ7T4",
        "outputId": "7382d327-db9b-42f2-975f-96069d1b3b2d"
      },
      "execution_count": 19,
      "outputs": [
        {
          "output_type": "execute_result",
          "data": {
            "text/plain": [
              "<tf.Tensor: shape=(10, 1), dtype=float32, numpy=\n",
              "array([[0.03127925],\n",
              "       [0.05252786],\n",
              "       [0.04231148],\n",
              "       [0.0729128 ],\n",
              "       [0.03106248],\n",
              "       [0.04051544],\n",
              "       [0.0515931 ],\n",
              "       [0.04440442],\n",
              "       [0.07924168],\n",
              "       [0.05515146]], dtype=float32)>"
            ]
          },
          "metadata": {},
          "execution_count": 19
        }
      ]
    },
    {
      "cell_type": "code",
      "source": [
        "preds = preds.numpy()\n",
        "preds = preds.round()\n",
        "preds[:10]"
      ],
      "metadata": {
        "colab": {
          "base_uri": "https://localhost:8080/"
        },
        "id": "IfN_41ISZ-9l",
        "outputId": "301e89c8-5a16-4fcf-f865-479d65d22577"
      },
      "execution_count": 20,
      "outputs": [
        {
          "output_type": "execute_result",
          "data": {
            "text/plain": [
              "array([[0.],\n",
              "       [0.],\n",
              "       [0.],\n",
              "       [0.],\n",
              "       [0.],\n",
              "       [0.],\n",
              "       [0.],\n",
              "       [0.],\n",
              "       [0.],\n",
              "       [0.]], dtype=float32)"
            ]
          },
          "metadata": {},
          "execution_count": 20
        }
      ]
    },
    {
      "cell_type": "code",
      "source": [
        "print(preds.shape)\n",
        "print(y.shape)"
      ],
      "metadata": {
        "colab": {
          "base_uri": "https://localhost:8080/"
        },
        "id": "d-e_LZwYaTD7",
        "outputId": "9c988a02-2ea6-4819-d9a9-5b7053d422b0"
      },
      "execution_count": 21,
      "outputs": [
        {
          "output_type": "stream",
          "name": "stdout",
          "text": [
            "(100, 1)\n",
            "(100, 1)\n"
          ]
        }
      ]
    },
    {
      "cell_type": "code",
      "source": [
        "acc = (preds[:,0] - y)"
      ],
      "metadata": {
        "id": "za8GwetIaeuv"
      },
      "execution_count": 22,
      "outputs": []
    },
    {
      "cell_type": "code",
      "source": [
        "print(acc.mean())"
      ],
      "metadata": {
        "colab": {
          "base_uri": "https://localhost:8080/"
        },
        "id": "4ECxxGOuh6yK",
        "outputId": "bddd10a1-b425-4e5e-9a40-f04bb2e819ec"
      },
      "execution_count": 24,
      "outputs": [
        {
          "output_type": "stream",
          "name": "stdout",
          "text": [
            "0.0\n"
          ]
        }
      ]
    },
    {
      "cell_type": "code",
      "source": [
        ""
      ],
      "metadata": {
        "id": "MZVP5Sfch76L"
      },
      "execution_count": null,
      "outputs": []
    }
  ]
}